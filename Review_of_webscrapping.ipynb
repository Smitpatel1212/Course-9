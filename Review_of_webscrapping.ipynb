{
  "nbformat": 4,
  "nbformat_minor": 0,
  "metadata": {
    "colab": {
      "provenance": [],
      "authorship_tag": "ABX9TyMpaIheqd21jpvYA6wZF6Dn",
      "include_colab_link": true
    },
    "kernelspec": {
      "name": "python3",
      "display_name": "Python 3"
    },
    "language_info": {
      "name": "python"
    }
  },
  "cells": [
    {
      "cell_type": "markdown",
      "metadata": {
        "id": "view-in-github",
        "colab_type": "text"
      },
      "source": [
        "<a href=\"https://colab.research.google.com/github/Rubinisuresh/Course_9/blob/main/Review_of_webscrapping.ipynb\" target=\"_parent\"><img src=\"https://colab.research.google.com/assets/colab-badge.svg\" alt=\"Open In Colab\"/></a>"
      ]
    },
    {
      "cell_type": "code",
      "execution_count": 1,
      "metadata": {
        "id": "6wW93G1d0g7k"
      },
      "outputs": [],
      "source": [
        "from bs4 import BeautifulSoup # this module helps in web scrapping.\n",
        "import requests  # this module helps us to download a web page"
      ]
    },
    {
      "cell_type": "code",
      "source": [
        "url = \"http://www.ibm.com\""
      ],
      "metadata": {
        "id": "BcqwMoL20n-k"
      },
      "execution_count": 2,
      "outputs": []
    },
    {
      "cell_type": "code",
      "source": [
        "data  = requests.get(url).text"
      ],
      "metadata": {
        "id": "eapUKMQD0rx7"
      },
      "execution_count": 3,
      "outputs": []
    },
    {
      "cell_type": "code",
      "source": [
        "soup = BeautifulSoup(data,\"html5lib\")"
      ],
      "metadata": {
        "id": "D2kJKKLa0uwL"
      },
      "execution_count": 4,
      "outputs": []
    },
    {
      "cell_type": "code",
      "source": [
        "for link in soup.find_all('a'):  # in html anchor/link is represented by the tag <a>\n",
        "    print(link.get('href'))"
      ],
      "metadata": {
        "colab": {
          "base_uri": "https://localhost:8080/"
        },
        "id": "UOU9fGOI0yBy",
        "outputId": "9ac68e3e-3813-44b0-f0f4-d3c450f22f3e"
      },
      "execution_count": 5,
      "outputs": [
        {
          "output_type": "stream",
          "name": "stdout",
          "text": [
            "https://www.ibm.com/consulting/ibmix\n",
            "https://www.ibm.com/community/ibm-techxchange-conference\n",
            "https://www.ibm.com/products/watsonx-ai\n",
            "https://www.ibm.com/products/watsonx-data\n",
            "https://www.ibm.com/products/spss-statistics/pricing\n",
            "https://www.ibm.com/products/planning-analytics?lnk=flatitem\n",
            "https://www.ibm.com/cloud?lnk=flatitem\n",
            "https://www.ibm.com/products\n",
            "#bx--custom-footnotes\n",
            "https://www.ibm.com/consulting\n",
            "https://www.ibm.com/about\n",
            "None\n",
            "https://www.gartner.com/en/documents/4007140\n",
            "https://www.ibm.com/\n"
          ]
        }
      ]
    },
    {
      "cell_type": "code",
      "source": [
        "for link in soup.find_all('img'):# in html image is represented by the tag <img>\n",
        "    print(link.get('src'))"
      ],
      "metadata": {
        "colab": {
          "base_uri": "https://localhost:8080/"
        },
        "id": "R8bIBlcj02qG",
        "outputId": "8551f2b8-20b2-432f-cbf7-c3fad420f366"
      },
      "execution_count": 6,
      "outputs": [
        {
          "output_type": "stream",
          "name": "stdout",
          "text": [
            "https://1.dam.s81c.com/p/0c3d00d887cd3e5f/homepage-watsonx-leadspace-4.png\n",
            "https://1.dam.s81c.com/p/0c3ce2dfcccd1f24/watsonx-data-square.jpg\n",
            "https://1.dam.s81c.com/p/0c3ce2dfcccd1f25/watsonx-ai-square.jpg\n",
            "https://1.dam.s81c.com/p/0b5258b292cc8c3c/ibm-SPSS-home-card.png.global.xs_1x1.png\n",
            "https://1.dam.s81c.com/p/0b5258b33acc8e04/homepage-planning-analytics-card.png.global.xs_1x1.png\n",
            "https://1.dam.s81c.com/p/0aac9cf57bcbf324/dotcom-1-overview.jpg\n"
          ]
        }
      ]
    },
    {
      "cell_type": "code",
      "source": [
        "url = \"https://cf-courses-data.s3.us.cloud-object-storage.appdomain.cloud/IBM-DA0321EN-SkillsNetwork/labs/datasets/HTMLColorCodes.html\""
      ],
      "metadata": {
        "id": "bA3bYMRB06MS"
      },
      "execution_count": 7,
      "outputs": []
    },
    {
      "cell_type": "code",
      "source": [
        "data  = requests.get(url).text"
      ],
      "metadata": {
        "id": "CclVJf6W0-48"
      },
      "execution_count": 8,
      "outputs": []
    },
    {
      "cell_type": "code",
      "source": [
        "soup = BeautifulSoup(data,\"html5lib\")"
      ],
      "metadata": {
        "id": "1o3hmz4L1C0a"
      },
      "execution_count": 9,
      "outputs": []
    },
    {
      "cell_type": "code",
      "source": [
        "#find a html table in the web page\n",
        "table = soup.find('table') # in html table is represented by the tag <table>"
      ],
      "metadata": {
        "id": "I_5HGW6Z1G0p"
      },
      "execution_count": 10,
      "outputs": []
    },
    {
      "cell_type": "code",
      "source": [
        "#Get all rows from the table\n",
        "for row in table.find_all('tr'): # in html table row is represented by the tag <tr>\n",
        "    # Get all columns in each row.\n",
        "    cols = row.find_all('td') # in html a column is represented by the tag <td>\n",
        "    color_name = cols[2].getText() # store the value in column 3 as color_name\n",
        "    color_code = cols[3].getText() # store the value in column 4 as color_code\n",
        "    print(\"{}--->{}\".format(color_name,color_code))"
      ],
      "metadata": {
        "colab": {
          "base_uri": "https://localhost:8080/"
        },
        "id": "3hGEt3kW1JpP",
        "outputId": "dcaf39f0-5d9b-4758-dda3-b53d9b05e94f"
      },
      "execution_count": 11,
      "outputs": [
        {
          "output_type": "stream",
          "name": "stdout",
          "text": [
            "Color Name--->Hex Code#RRGGBB\n",
            "lightsalmon--->#FFA07A\n",
            "salmon--->#FA8072\n",
            "darksalmon--->#E9967A\n",
            "lightcoral--->#F08080\n",
            "coral--->#FF7F50\n",
            "tomato--->#FF6347\n",
            "orangered--->#FF4500\n",
            "gold--->#FFD700\n",
            "orange--->#FFA500\n",
            "darkorange--->#FF8C00\n",
            "lightyellow--->#FFFFE0\n",
            "lemonchiffon--->#FFFACD\n",
            "papayawhip--->#FFEFD5\n",
            "moccasin--->#FFE4B5\n",
            "peachpuff--->#FFDAB9\n",
            "palegoldenrod--->#EEE8AA\n",
            "khaki--->#F0E68C\n",
            "darkkhaki--->#BDB76B\n",
            "yellow--->#FFFF00\n",
            "lawngreen--->#7CFC00\n",
            "chartreuse--->#7FFF00\n",
            "limegreen--->#32CD32\n",
            "lime--->#00FF00\n",
            "forestgreen--->#228B22\n",
            "green--->#008000\n",
            "powderblue--->#B0E0E6\n",
            "lightblue--->#ADD8E6\n",
            "lightskyblue--->#87CEFA\n",
            "skyblue--->#87CEEB\n",
            "deepskyblue--->#00BFFF\n",
            "lightsteelblue--->#B0C4DE\n",
            "dodgerblue--->#1E90FF\n"
          ]
        }
      ]
    },
    {
      "cell_type": "markdown",
      "source": [
        "#LAB 4 Colleting Dta Using Web Scrapping"
      ],
      "metadata": {
        "id": "Vq4B-jte2eyF"
      }
    },
    {
      "cell_type": "code",
      "source": [
        "#this url contains the data you need to scrape\n",
        "url = \"https://cf-courses-data.s3.us.cloud-object-storage.appdomain.cloud/IBM-DA0321EN-SkillsNetwork/labs/datasets/Programming_Languages.html\""
      ],
      "metadata": {
        "id": "cZB3uy6a1Np3"
      },
      "execution_count": 33,
      "outputs": []
    },
    {
      "cell_type": "code",
      "source": [
        "# Your code here\n",
        "from bs4 import BeautifulSoup\n",
        "import requests\n",
        "import pandas as pd"
      ],
      "metadata": {
        "id": "4Cx_NgpU2qoY"
      },
      "execution_count": 48,
      "outputs": []
    },
    {
      "cell_type": "code",
      "source": [
        "data = requests.get(url).text"
      ],
      "metadata": {
        "id": "h3jsTJ9e2tV5"
      },
      "execution_count": 35,
      "outputs": []
    },
    {
      "cell_type": "code",
      "source": [
        "soup = BeautifulSoup(data,\"html5lib\")"
      ],
      "metadata": {
        "id": "-JzNmVqM3IjO"
      },
      "execution_count": 36,
      "outputs": []
    },
    {
      "cell_type": "code",
      "source": [
        "#Scrape the Language name and annual average salary\n",
        "table1 = soup.find('table')\n",
        "print(table)"
      ],
      "metadata": {
        "colab": {
          "base_uri": "https://localhost:8080/"
        },
        "id": "rmnQHp0e3X92",
        "outputId": "5a8741c3-9bc8-4566-df7b-6c3cf3013b31"
      },
      "execution_count": 44,
      "outputs": [
        {
          "output_type": "stream",
          "name": "stdout",
          "text": [
            "<table>\n",
            "<tbody>\n",
            "<tr>\n",
            "<td>No.</td>\n",
            "<td>Language</td>\n",
            "<td>Created By</td>\n",
            "<td>Average Annual Salary</td>\n",
            "<td>Learning Difficulty</td>\n",
            "</tr>\n",
            "<tr>\n",
            "<td>1</td>\n",
            "<td>Python</td>\n",
            "<td>Guido van Rossum</td>\n",
            "<td>$114,383</td>\n",
            "<td>Easy</td>\n",
            "</tr>\n",
            "<tr>\n",
            "<td>2</td>\n",
            "<td>Java</td>\n",
            "<td>James Gosling</td>\n",
            "<td>$101,013</td>\n",
            "<td>Easy</td>\n",
            "</tr>\n",
            "<tr>\n",
            "<td>3</td>\n",
            "<td>R</td>\n",
            "<td>Robert Gentleman, Ross Ihaka</td>\n",
            "<td>$92,037</td>\n",
            "<td>Hard</td>\n",
            "</tr>\n",
            "<tr>\n",
            "<td>4</td>\n",
            "<td>Javascript</td>\n",
            "<td>Netscape</td>\n",
            "<td>$110,981</td>\n",
            "<td>Easy</td>\n",
            "</tr>\n",
            "<tr>\n",
            "<td>5</td>\n",
            "<td>Swift</td>\n",
            "<td>Apple</td>\n",
            "<td>$130,801</td>\n",
            "<td>Easy</td>\n",
            "</tr>\n",
            "<tr>\n",
            "<td>6</td>\n",
            "<td>C++</td>\n",
            "<td>Bjarne Stroustrup</td>\n",
            "<td>$113,865</td>\n",
            "<td>Hard</td>\n",
            "</tr>\n",
            "<tr>\n",
            "<td>7</td>\n",
            "<td>C#</td>\n",
            "<td>Microsoft</td>\n",
            "<td>$88,726</td>\n",
            "<td>Hard</td>\n",
            "</tr>\n",
            "<tr>\n",
            "<td>8</td>\n",
            "<td>PHP</td>\n",
            "<td>Rasmus Lerdorf</td>\n",
            "<td>$84,727</td>\n",
            "<td>Easy</td>\n",
            "</tr>\n",
            "<tr>\n",
            "<td>9</td>\n",
            "<td>SQL</td>\n",
            "<td>Donald D. Chamberlin, Raymond F. Boyce.</td>\n",
            "<td>$84,793</td>\n",
            "<td>Easy</td>\n",
            "</tr>\n",
            "<tr>\n",
            "<td>10</td>\n",
            "<td>Go</td>\n",
            "<td>Robert Griesemer, Ken Thompson, Rob Pike.</td>\n",
            "<td>$94,082</td>\n",
            "<td>Difficult</td>\n",
            "</tr>\n",
            "</tbody>\n",
            "</table>\n"
          ]
        }
      ]
    },
    {
      "cell_type": "code",
      "source": [
        "lang_list = []\n",
        "sal_list = []"
      ],
      "metadata": {
        "id": "9kB58swn-kPN"
      },
      "execution_count": 46,
      "outputs": []
    },
    {
      "cell_type": "code",
      "source": [
        "for row in table1.find_all('tr'): # in html table row is represented by the tag <tr>\n",
        "    # Get language, Agerage Salary columns in each row.\n",
        "    cols = row.find_all('td') # in html a column is represented by the tag <td>\n",
        "    lang = cols[1].getText() # store the value in column 3 as color_name\n",
        "    lang_list.append\n",
        "    sal = cols[3].getText() # store the value in column 4 as color_code\n",
        "    sal_list.append\n",
        "    print(\"{}--->{}\".format(lang,sal))"
      ],
      "metadata": {
        "colab": {
          "base_uri": "https://localhost:8080/"
        },
        "id": "3FK-Q-Fd4C7p",
        "outputId": "74522574-9f6b-491e-f39f-cf3c88235ba8"
      },
      "execution_count": 47,
      "outputs": [
        {
          "output_type": "stream",
          "name": "stdout",
          "text": [
            "Language--->Average Annual Salary\n",
            "Python--->$114,383\n",
            "Java--->$101,013\n",
            "R--->$92,037\n",
            "Javascript--->$110,981\n",
            "Swift--->$130,801\n",
            "C++--->$113,865\n",
            "C#--->$88,726\n",
            "PHP--->$84,727\n",
            "SQL--->$84,793\n",
            "Go--->$94,082\n"
          ]
        }
      ]
    },
    {
      "cell_type": "code",
      "source": [
        "df = pd.DataFrame(columns = ['Language','Average_Annual_Salary'])"
      ],
      "metadata": {
        "id": "GrzRwv7QAoFK"
      },
      "execution_count": 49,
      "outputs": []
    },
    {
      "cell_type": "code",
      "source": [
        "df['Language'] = lang_list\n",
        "df['Average_Annual_Salary'] = sal_list"
      ],
      "metadata": {
        "id": "BqykNR73ByQZ"
      },
      "execution_count": 50,
      "outputs": []
    },
    {
      "cell_type": "code",
      "source": [
        "df.to_csv('popular-languages.csv')"
      ],
      "metadata": {
        "id": "XjSVxUZJCCxH"
      },
      "execution_count": 51,
      "outputs": []
    },
    {
      "cell_type": "code",
      "source": [
        "read_data = pd.read_csv\n",
        "print(read_data)"
      ],
      "metadata": {
        "colab": {
          "base_uri": "https://localhost:8080/"
        },
        "id": "7tA55TElCP3c",
        "outputId": "905a1254-4741-453f-ec9d-dd6880bce549"
      },
      "execution_count": 55,
      "outputs": [
        {
          "output_type": "stream",
          "name": "stdout",
          "text": [
            "<function read_csv at 0x781564b41630>\n"
          ]
        }
      ]
    },
    {
      "cell_type": "code",
      "source": [],
      "metadata": {
        "id": "9GE-Q_eWCjra"
      },
      "execution_count": null,
      "outputs": []
    }
  ]
}