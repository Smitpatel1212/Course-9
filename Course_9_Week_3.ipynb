{
  "nbformat": 4,
  "nbformat_minor": 0,
  "metadata": {
    "colab": {
      "provenance": [],
      "authorship_tag": "ABX9TyNrsL9RhuCPT78zRD3jkuyz",
      "include_colab_link": true
    },
    "kernelspec": {
      "name": "python3",
      "display_name": "Python 3"
    },
    "language_info": {
      "name": "python"
    }
  },
  "cells": [
    {
      "cell_type": "markdown",
      "metadata": {
        "id": "view-in-github",
        "colab_type": "text"
      },
      "source": [
        "<a href=\"https://colab.research.google.com/github/Rubinisuresh/Course_9/blob/main/Course_9_Week_3.ipynb\" target=\"_parent\"><img src=\"https://colab.research.google.com/assets/colab-badge.svg\" alt=\"Open In Colab\"/></a>"
      ]
    },
    {
      "cell_type": "code",
      "execution_count": 49,
      "metadata": {
        "id": "rkQ86eSPPayU"
      },
      "outputs": [],
      "source": [
        "import pandas as pd\n",
        "import matplotlib.pyplot as plt\n",
        "import numpy as np\n",
        "import seaborn as sns"
      ]
    },
    {
      "cell_type": "code",
      "source": [
        "df = pd.read_csv(\"https://cf-courses-data.s3.us.cloud-object-storage.appdomain.cloud/IBM-DA0321EN-SkillsNetwork/LargeData/m2_survey_data.csv\")"
      ],
      "metadata": {
        "id": "YUa8wu-wQwP0"
      },
      "execution_count": 10,
      "outputs": []
    },
    {
      "cell_type": "markdown",
      "source": [
        "#Distribution"
      ],
      "metadata": {
        "id": "btg2GVaKQ7Bh"
      }
    },
    {
      "cell_type": "code",
      "source": [
        "df.head()"
      ],
      "metadata": {
        "colab": {
          "base_uri": "https://localhost:8080/",
          "height": 627
        },
        "id": "hCiyTFGbQ1QU",
        "outputId": "28e1243f-f6f5-4f45-d41f-09eb610be407"
      },
      "execution_count": 11,
      "outputs": [
        {
          "output_type": "execute_result",
          "data": {
            "text/plain": [
              "   Respondent                      MainBranch Hobbyist  \\\n",
              "0           4  I am a developer by profession       No   \n",
              "1           9  I am a developer by profession      Yes   \n",
              "2          13  I am a developer by profession      Yes   \n",
              "3          16  I am a developer by profession      Yes   \n",
              "4          17  I am a developer by profession      Yes   \n",
              "\n",
              "                                         OpenSourcer  \\\n",
              "0                                              Never   \n",
              "1                         Once a month or more often   \n",
              "2  Less than once a month but more than once per ...   \n",
              "3                                              Never   \n",
              "4  Less than once a month but more than once per ...   \n",
              "\n",
              "                                          OpenSource          Employment  \\\n",
              "0  The quality of OSS and closed source software ...  Employed full-time   \n",
              "1  The quality of OSS and closed source software ...  Employed full-time   \n",
              "2  OSS is, on average, of HIGHER quality than pro...  Employed full-time   \n",
              "3  The quality of OSS and closed source software ...  Employed full-time   \n",
              "4  The quality of OSS and closed source software ...  Employed full-time   \n",
              "\n",
              "          Country Student                                            EdLevel  \\\n",
              "0   United States      No           Bachelor’s degree (BA, BS, B.Eng., etc.)   \n",
              "1     New Zealand      No  Some college/university study without earning ...   \n",
              "2   United States      No        Master’s degree (MA, MS, M.Eng., MBA, etc.)   \n",
              "3  United Kingdom      No        Master’s degree (MA, MS, M.Eng., MBA, etc.)   \n",
              "4       Australia      No           Bachelor’s degree (BA, BS, B.Eng., etc.)   \n",
              "\n",
              "                                      UndergradMajor  ...  \\\n",
              "0  Computer science, computer engineering, or sof...  ...   \n",
              "1  Computer science, computer engineering, or sof...  ...   \n",
              "2  Computer science, computer engineering, or sof...  ...   \n",
              "3                                                NaN  ...   \n",
              "4  Computer science, computer engineering, or sof...  ...   \n",
              "\n",
              "                              WelcomeChange  \\\n",
              "0   Just as welcome now as I felt last year   \n",
              "1   Just as welcome now as I felt last year   \n",
              "2  Somewhat more welcome now than last year   \n",
              "3   Just as welcome now as I felt last year   \n",
              "4   Just as welcome now as I felt last year   \n",
              "\n",
              "                                        SONewContent   Age Gender Trans  \\\n",
              "0  Tech articles written by other developers;Indu...  22.0    Man    No   \n",
              "1                                                NaN  23.0    Man    No   \n",
              "2  Tech articles written by other developers;Cour...  28.0    Man    No   \n",
              "3  Tech articles written by other developers;Indu...  26.0    Man    No   \n",
              "4  Tech articles written by other developers;Indu...  29.0    Man    No   \n",
              "\n",
              "                 Sexuality                              Ethnicity Dependents  \\\n",
              "0  Straight / Heterosexual           White or of European descent         No   \n",
              "1                 Bisexual           White or of European descent         No   \n",
              "2  Straight / Heterosexual           White or of European descent        Yes   \n",
              "3  Straight / Heterosexual           White or of European descent         No   \n",
              "4  Straight / Heterosexual  Hispanic or Latino/Latina;Multiracial         No   \n",
              "\n",
              "            SurveyLength                  SurveyEase  \n",
              "0  Appropriate in length                        Easy  \n",
              "1  Appropriate in length  Neither easy nor difficult  \n",
              "2  Appropriate in length                        Easy  \n",
              "3  Appropriate in length  Neither easy nor difficult  \n",
              "4  Appropriate in length                        Easy  \n",
              "\n",
              "[5 rows x 85 columns]"
            ],
            "text/html": [
              "\n",
              "\n",
              "  <div id=\"df-baeb30a3-62c0-448a-bc84-578b75d3a8c5\">\n",
              "    <div class=\"colab-df-container\">\n",
              "      <div>\n",
              "<style scoped>\n",
              "    .dataframe tbody tr th:only-of-type {\n",
              "        vertical-align: middle;\n",
              "    }\n",
              "\n",
              "    .dataframe tbody tr th {\n",
              "        vertical-align: top;\n",
              "    }\n",
              "\n",
              "    .dataframe thead th {\n",
              "        text-align: right;\n",
              "    }\n",
              "</style>\n",
              "<table border=\"1\" class=\"dataframe\">\n",
              "  <thead>\n",
              "    <tr style=\"text-align: right;\">\n",
              "      <th></th>\n",
              "      <th>Respondent</th>\n",
              "      <th>MainBranch</th>\n",
              "      <th>Hobbyist</th>\n",
              "      <th>OpenSourcer</th>\n",
              "      <th>OpenSource</th>\n",
              "      <th>Employment</th>\n",
              "      <th>Country</th>\n",
              "      <th>Student</th>\n",
              "      <th>EdLevel</th>\n",
              "      <th>UndergradMajor</th>\n",
              "      <th>...</th>\n",
              "      <th>WelcomeChange</th>\n",
              "      <th>SONewContent</th>\n",
              "      <th>Age</th>\n",
              "      <th>Gender</th>\n",
              "      <th>Trans</th>\n",
              "      <th>Sexuality</th>\n",
              "      <th>Ethnicity</th>\n",
              "      <th>Dependents</th>\n",
              "      <th>SurveyLength</th>\n",
              "      <th>SurveyEase</th>\n",
              "    </tr>\n",
              "  </thead>\n",
              "  <tbody>\n",
              "    <tr>\n",
              "      <th>0</th>\n",
              "      <td>4</td>\n",
              "      <td>I am a developer by profession</td>\n",
              "      <td>No</td>\n",
              "      <td>Never</td>\n",
              "      <td>The quality of OSS and closed source software ...</td>\n",
              "      <td>Employed full-time</td>\n",
              "      <td>United States</td>\n",
              "      <td>No</td>\n",
              "      <td>Bachelor’s degree (BA, BS, B.Eng., etc.)</td>\n",
              "      <td>Computer science, computer engineering, or sof...</td>\n",
              "      <td>...</td>\n",
              "      <td>Just as welcome now as I felt last year</td>\n",
              "      <td>Tech articles written by other developers;Indu...</td>\n",
              "      <td>22.0</td>\n",
              "      <td>Man</td>\n",
              "      <td>No</td>\n",
              "      <td>Straight / Heterosexual</td>\n",
              "      <td>White or of European descent</td>\n",
              "      <td>No</td>\n",
              "      <td>Appropriate in length</td>\n",
              "      <td>Easy</td>\n",
              "    </tr>\n",
              "    <tr>\n",
              "      <th>1</th>\n",
              "      <td>9</td>\n",
              "      <td>I am a developer by profession</td>\n",
              "      <td>Yes</td>\n",
              "      <td>Once a month or more often</td>\n",
              "      <td>The quality of OSS and closed source software ...</td>\n",
              "      <td>Employed full-time</td>\n",
              "      <td>New Zealand</td>\n",
              "      <td>No</td>\n",
              "      <td>Some college/university study without earning ...</td>\n",
              "      <td>Computer science, computer engineering, or sof...</td>\n",
              "      <td>...</td>\n",
              "      <td>Just as welcome now as I felt last year</td>\n",
              "      <td>NaN</td>\n",
              "      <td>23.0</td>\n",
              "      <td>Man</td>\n",
              "      <td>No</td>\n",
              "      <td>Bisexual</td>\n",
              "      <td>White or of European descent</td>\n",
              "      <td>No</td>\n",
              "      <td>Appropriate in length</td>\n",
              "      <td>Neither easy nor difficult</td>\n",
              "    </tr>\n",
              "    <tr>\n",
              "      <th>2</th>\n",
              "      <td>13</td>\n",
              "      <td>I am a developer by profession</td>\n",
              "      <td>Yes</td>\n",
              "      <td>Less than once a month but more than once per ...</td>\n",
              "      <td>OSS is, on average, of HIGHER quality than pro...</td>\n",
              "      <td>Employed full-time</td>\n",
              "      <td>United States</td>\n",
              "      <td>No</td>\n",
              "      <td>Master’s degree (MA, MS, M.Eng., MBA, etc.)</td>\n",
              "      <td>Computer science, computer engineering, or sof...</td>\n",
              "      <td>...</td>\n",
              "      <td>Somewhat more welcome now than last year</td>\n",
              "      <td>Tech articles written by other developers;Cour...</td>\n",
              "      <td>28.0</td>\n",
              "      <td>Man</td>\n",
              "      <td>No</td>\n",
              "      <td>Straight / Heterosexual</td>\n",
              "      <td>White or of European descent</td>\n",
              "      <td>Yes</td>\n",
              "      <td>Appropriate in length</td>\n",
              "      <td>Easy</td>\n",
              "    </tr>\n",
              "    <tr>\n",
              "      <th>3</th>\n",
              "      <td>16</td>\n",
              "      <td>I am a developer by profession</td>\n",
              "      <td>Yes</td>\n",
              "      <td>Never</td>\n",
              "      <td>The quality of OSS and closed source software ...</td>\n",
              "      <td>Employed full-time</td>\n",
              "      <td>United Kingdom</td>\n",
              "      <td>No</td>\n",
              "      <td>Master’s degree (MA, MS, M.Eng., MBA, etc.)</td>\n",
              "      <td>NaN</td>\n",
              "      <td>...</td>\n",
              "      <td>Just as welcome now as I felt last year</td>\n",
              "      <td>Tech articles written by other developers;Indu...</td>\n",
              "      <td>26.0</td>\n",
              "      <td>Man</td>\n",
              "      <td>No</td>\n",
              "      <td>Straight / Heterosexual</td>\n",
              "      <td>White or of European descent</td>\n",
              "      <td>No</td>\n",
              "      <td>Appropriate in length</td>\n",
              "      <td>Neither easy nor difficult</td>\n",
              "    </tr>\n",
              "    <tr>\n",
              "      <th>4</th>\n",
              "      <td>17</td>\n",
              "      <td>I am a developer by profession</td>\n",
              "      <td>Yes</td>\n",
              "      <td>Less than once a month but more than once per ...</td>\n",
              "      <td>The quality of OSS and closed source software ...</td>\n",
              "      <td>Employed full-time</td>\n",
              "      <td>Australia</td>\n",
              "      <td>No</td>\n",
              "      <td>Bachelor’s degree (BA, BS, B.Eng., etc.)</td>\n",
              "      <td>Computer science, computer engineering, or sof...</td>\n",
              "      <td>...</td>\n",
              "      <td>Just as welcome now as I felt last year</td>\n",
              "      <td>Tech articles written by other developers;Indu...</td>\n",
              "      <td>29.0</td>\n",
              "      <td>Man</td>\n",
              "      <td>No</td>\n",
              "      <td>Straight / Heterosexual</td>\n",
              "      <td>Hispanic or Latino/Latina;Multiracial</td>\n",
              "      <td>No</td>\n",
              "      <td>Appropriate in length</td>\n",
              "      <td>Easy</td>\n",
              "    </tr>\n",
              "  </tbody>\n",
              "</table>\n",
              "<p>5 rows × 85 columns</p>\n",
              "</div>\n",
              "      <button class=\"colab-df-convert\" onclick=\"convertToInteractive('df-baeb30a3-62c0-448a-bc84-578b75d3a8c5')\"\n",
              "              title=\"Convert this dataframe to an interactive table.\"\n",
              "              style=\"display:none;\">\n",
              "\n",
              "  <svg xmlns=\"http://www.w3.org/2000/svg\" height=\"24px\"viewBox=\"0 0 24 24\"\n",
              "       width=\"24px\">\n",
              "    <path d=\"M0 0h24v24H0V0z\" fill=\"none\"/>\n",
              "    <path d=\"M18.56 5.44l.94 2.06.94-2.06 2.06-.94-2.06-.94-.94-2.06-.94 2.06-2.06.94zm-11 1L8.5 8.5l.94-2.06 2.06-.94-2.06-.94L8.5 2.5l-.94 2.06-2.06.94zm10 10l.94 2.06.94-2.06 2.06-.94-2.06-.94-.94-2.06-.94 2.06-2.06.94z\"/><path d=\"M17.41 7.96l-1.37-1.37c-.4-.4-.92-.59-1.43-.59-.52 0-1.04.2-1.43.59L10.3 9.45l-7.72 7.72c-.78.78-.78 2.05 0 2.83L4 21.41c.39.39.9.59 1.41.59.51 0 1.02-.2 1.41-.59l7.78-7.78 2.81-2.81c.8-.78.8-2.07 0-2.86zM5.41 20L4 18.59l7.72-7.72 1.47 1.35L5.41 20z\"/>\n",
              "  </svg>\n",
              "      </button>\n",
              "\n",
              "\n",
              "\n",
              "    <div id=\"df-8028d084-fafb-427d-bd7c-33027cffd6b5\">\n",
              "      <button class=\"colab-df-quickchart\" onclick=\"quickchart('df-8028d084-fafb-427d-bd7c-33027cffd6b5')\"\n",
              "              title=\"Suggest charts.\"\n",
              "              style=\"display:none;\">\n",
              "\n",
              "<svg xmlns=\"http://www.w3.org/2000/svg\" height=\"24px\"viewBox=\"0 0 24 24\"\n",
              "     width=\"24px\">\n",
              "    <g>\n",
              "        <path d=\"M19 3H5c-1.1 0-2 .9-2 2v14c0 1.1.9 2 2 2h14c1.1 0 2-.9 2-2V5c0-1.1-.9-2-2-2zM9 17H7v-7h2v7zm4 0h-2V7h2v10zm4 0h-2v-4h2v4z\"/>\n",
              "    </g>\n",
              "</svg>\n",
              "      </button>\n",
              "    </div>\n",
              "\n",
              "<style>\n",
              "  .colab-df-quickchart {\n",
              "    background-color: #E8F0FE;\n",
              "    border: none;\n",
              "    border-radius: 50%;\n",
              "    cursor: pointer;\n",
              "    display: none;\n",
              "    fill: #1967D2;\n",
              "    height: 32px;\n",
              "    padding: 0 0 0 0;\n",
              "    width: 32px;\n",
              "  }\n",
              "\n",
              "  .colab-df-quickchart:hover {\n",
              "    background-color: #E2EBFA;\n",
              "    box-shadow: 0px 1px 2px rgba(60, 64, 67, 0.3), 0px 1px 3px 1px rgba(60, 64, 67, 0.15);\n",
              "    fill: #174EA6;\n",
              "  }\n",
              "\n",
              "  [theme=dark] .colab-df-quickchart {\n",
              "    background-color: #3B4455;\n",
              "    fill: #D2E3FC;\n",
              "  }\n",
              "\n",
              "  [theme=dark] .colab-df-quickchart:hover {\n",
              "    background-color: #434B5C;\n",
              "    box-shadow: 0px 1px 3px 1px rgba(0, 0, 0, 0.15);\n",
              "    filter: drop-shadow(0px 1px 2px rgba(0, 0, 0, 0.3));\n",
              "    fill: #FFFFFF;\n",
              "  }\n",
              "</style>\n",
              "\n",
              "    <script>\n",
              "      async function quickchart(key) {\n",
              "        const containerElement = document.querySelector('#' + key);\n",
              "        const charts = await google.colab.kernel.invokeFunction(\n",
              "            'suggestCharts', [key], {});\n",
              "      }\n",
              "    </script>\n",
              "\n",
              "      <script>\n",
              "\n",
              "function displayQuickchartButton(domScope) {\n",
              "  let quickchartButtonEl =\n",
              "    domScope.querySelector('#df-8028d084-fafb-427d-bd7c-33027cffd6b5 button.colab-df-quickchart');\n",
              "  quickchartButtonEl.style.display =\n",
              "    google.colab.kernel.accessAllowed ? 'block' : 'none';\n",
              "}\n",
              "\n",
              "        displayQuickchartButton(document);\n",
              "      </script>\n",
              "      <style>\n",
              "    .colab-df-container {\n",
              "      display:flex;\n",
              "      flex-wrap:wrap;\n",
              "      gap: 12px;\n",
              "    }\n",
              "\n",
              "    .colab-df-convert {\n",
              "      background-color: #E8F0FE;\n",
              "      border: none;\n",
              "      border-radius: 50%;\n",
              "      cursor: pointer;\n",
              "      display: none;\n",
              "      fill: #1967D2;\n",
              "      height: 32px;\n",
              "      padding: 0 0 0 0;\n",
              "      width: 32px;\n",
              "    }\n",
              "\n",
              "    .colab-df-convert:hover {\n",
              "      background-color: #E2EBFA;\n",
              "      box-shadow: 0px 1px 2px rgba(60, 64, 67, 0.3), 0px 1px 3px 1px rgba(60, 64, 67, 0.15);\n",
              "      fill: #174EA6;\n",
              "    }\n",
              "\n",
              "    [theme=dark] .colab-df-convert {\n",
              "      background-color: #3B4455;\n",
              "      fill: #D2E3FC;\n",
              "    }\n",
              "\n",
              "    [theme=dark] .colab-df-convert:hover {\n",
              "      background-color: #434B5C;\n",
              "      box-shadow: 0px 1px 3px 1px rgba(0, 0, 0, 0.15);\n",
              "      filter: drop-shadow(0px 1px 2px rgba(0, 0, 0, 0.3));\n",
              "      fill: #FFFFFF;\n",
              "    }\n",
              "  </style>\n",
              "\n",
              "      <script>\n",
              "        const buttonEl =\n",
              "          document.querySelector('#df-baeb30a3-62c0-448a-bc84-578b75d3a8c5 button.colab-df-convert');\n",
              "        buttonEl.style.display =\n",
              "          google.colab.kernel.accessAllowed ? 'block' : 'none';\n",
              "\n",
              "        async function convertToInteractive(key) {\n",
              "          const element = document.querySelector('#df-baeb30a3-62c0-448a-bc84-578b75d3a8c5');\n",
              "          const dataTable =\n",
              "            await google.colab.kernel.invokeFunction('convertToInteractive',\n",
              "                                                     [key], {});\n",
              "          if (!dataTable) return;\n",
              "\n",
              "          const docLinkHtml = 'Like what you see? Visit the ' +\n",
              "            '<a target=\"_blank\" href=https://colab.research.google.com/notebooks/data_table.ipynb>data table notebook</a>'\n",
              "            + ' to learn more about interactive tables.';\n",
              "          element.innerHTML = '';\n",
              "          dataTable['output_type'] = 'display_data';\n",
              "          await google.colab.output.renderOutput(dataTable, element);\n",
              "          const docLink = document.createElement('div');\n",
              "          docLink.innerHTML = docLinkHtml;\n",
              "          element.appendChild(docLink);\n",
              "        }\n",
              "      </script>\n",
              "    </div>\n",
              "  </div>\n"
            ]
          },
          "metadata": {},
          "execution_count": 11
        }
      ]
    },
    {
      "cell_type": "code",
      "source": [
        "df.info()"
      ],
      "metadata": {
        "colab": {
          "base_uri": "https://localhost:8080/"
        },
        "id": "RMVcwSg5RLaH",
        "outputId": "64412c4b-ec39-4f52-a76e-e447fc21e92d"
      },
      "execution_count": 5,
      "outputs": [
        {
          "output_type": "stream",
          "name": "stdout",
          "text": [
            "<class 'pandas.core.frame.DataFrame'>\n",
            "RangeIndex: 11398 entries, 0 to 11397\n",
            "Data columns (total 85 columns):\n",
            " #   Column                  Non-Null Count  Dtype  \n",
            "---  ------                  --------------  -----  \n",
            " 0   Respondent              11398 non-null  int64  \n",
            " 1   MainBranch              11398 non-null  object \n",
            " 2   Hobbyist                11398 non-null  object \n",
            " 3   OpenSourcer             11398 non-null  object \n",
            " 4   OpenSource              11317 non-null  object \n",
            " 5   Employment              11398 non-null  object \n",
            " 6   Country                 11398 non-null  object \n",
            " 7   Student                 11347 non-null  object \n",
            " 8   EdLevel                 11286 non-null  object \n",
            " 9   UndergradMajor          10661 non-null  object \n",
            " 10  EduOther                11234 non-null  object \n",
            " 11  OrgSize                 11302 non-null  object \n",
            " 12  DevType                 11333 non-null  object \n",
            " 13  YearsCode               11389 non-null  object \n",
            " 14  Age1stCode              11385 non-null  object \n",
            " 15  YearsCodePro            11382 non-null  object \n",
            " 16  CareerSat               11398 non-null  object \n",
            " 17  JobSat                  11397 non-null  object \n",
            " 18  MgrIdiot                10905 non-null  object \n",
            " 19  MgrMoney                10901 non-null  object \n",
            " 20  MgrWant                 10905 non-null  object \n",
            " 21  JobSeek                 11398 non-null  object \n",
            " 22  LastHireDate            11398 non-null  object \n",
            " 23  LastInt                 10985 non-null  object \n",
            " 24  FizzBuzz                11361 non-null  object \n",
            " 25  JobFactors              11395 non-null  object \n",
            " 26  ResumeUpdate            11359 non-null  object \n",
            " 27  CurrencySymbol          11398 non-null  object \n",
            " 28  CurrencyDesc            11398 non-null  object \n",
            " 29  CompTotal               10589 non-null  float64\n",
            " 30  CompFreq                11192 non-null  object \n",
            " 31  ConvertedComp           10582 non-null  float64\n",
            " 32  WorkWeekHrs             11276 non-null  float64\n",
            " 33  WorkPlan                11277 non-null  object \n",
            " 34  WorkChallenge           11234 non-null  object \n",
            " 35  WorkRemote              11390 non-null  object \n",
            " 36  WorkLoc                 11366 non-null  object \n",
            " 37  ImpSyn                  11393 non-null  object \n",
            " 38  CodeRev                 11397 non-null  object \n",
            " 39  CodeRevHrs              8972 non-null   float64\n",
            " 40  UnitTests               11369 non-null  object \n",
            " 41  PurchaseHow             11202 non-null  object \n",
            " 42  PurchaseWhat            11360 non-null  object \n",
            " 43  LanguageWorkedWith      11387 non-null  object \n",
            " 44  LanguageDesireNextYear  11264 non-null  object \n",
            " 45  DatabaseWorkedWith      10945 non-null  object \n",
            " 46  DatabaseDesireNextYear  10356 non-null  object \n",
            " 47  PlatformWorkedWith      10987 non-null  object \n",
            " 48  PlatformDesireNextYear  10854 non-null  object \n",
            " 49  WebFrameWorkedWith      10005 non-null  object \n",
            " 50  WebFrameDesireNextYear  9781 non-null   object \n",
            " 51  MiscTechWorkedWith      9216 non-null   object \n",
            " 52  MiscTechDesireNextYear  9943 non-null   object \n",
            " 53  DevEnviron              11369 non-null  object \n",
            " 54  OpSys                   11364 non-null  object \n",
            " 55  Containers              11316 non-null  object \n",
            " 56  BlockchainOrg           9076 non-null   object \n",
            " 57  BlockchainIs            8788 non-null   object \n",
            " 58  BetterLife              11300 non-null  object \n",
            " 59  ITperson                11363 non-null  object \n",
            " 60  OffOn                   11360 non-null  object \n",
            " 61  SocialMedia             11105 non-null  object \n",
            " 62  Extraversion            11378 non-null  object \n",
            " 63  ScreenName              10891 non-null  object \n",
            " 64  SOVisit1st              11073 non-null  object \n",
            " 65  SOVisitFreq             11393 non-null  object \n",
            " 66  SOVisitTo               11397 non-null  object \n",
            " 67  SOFindAnswer            11395 non-null  object \n",
            " 68  SOTimeSaved             11348 non-null  object \n",
            " 69  SOHowMuchTime           9481 non-null   object \n",
            " 70  SOAccount               11397 non-null  object \n",
            " 71  SOPartFreq              10270 non-null  object \n",
            " 72  SOJobs                  11392 non-null  object \n",
            " 73  EntTeams                11393 non-null  object \n",
            " 74  SOComm                  11398 non-null  object \n",
            " 75  WelcomeChange           11313 non-null  object \n",
            " 76  SONewContent            9433 non-null   object \n",
            " 77  Age                     11111 non-null  float64\n",
            " 78  Gender                  11325 non-null  object \n",
            " 79  Trans                   11275 non-null  object \n",
            " 80  Sexuality               10856 non-null  object \n",
            " 81  Ethnicity               10723 non-null  object \n",
            " 82  Dependents              11258 non-null  object \n",
            " 83  SurveyLength            11379 non-null  object \n",
            " 84  SurveyEase              11384 non-null  object \n",
            "dtypes: float64(5), int64(1), object(79)\n",
            "memory usage: 7.4+ MB\n"
          ]
        }
      ]
    },
    {
      "cell_type": "code",
      "source": [
        "df['ConvertedComp'].head()"
      ],
      "metadata": {
        "colab": {
          "base_uri": "https://localhost:8080/"
        },
        "id": "WIUtuia5RbAb",
        "outputId": "9475939b-7712-4f58-c9b2-719a7ff149df"
      },
      "execution_count": 8,
      "outputs": [
        {
          "output_type": "execute_result",
          "data": {
            "text/plain": [
              "0     61000.0\n",
              "1     95179.0\n",
              "2     90000.0\n",
              "3    455352.0\n",
              "4     65277.0\n",
              "Name: ConvertedComp, dtype: float64"
            ]
          },
          "metadata": {},
          "execution_count": 8
        }
      ]
    },
    {
      "cell_type": "code",
      "source": [
        "df['Age'].median()"
      ],
      "metadata": {
        "colab": {
          "base_uri": "https://localhost:8080/"
        },
        "id": "wNuKYHxeWzTQ",
        "outputId": "73d1059d-ba6d-4b79-a6f0-bfe933c1a58f"
      },
      "execution_count": 23,
      "outputs": [
        {
          "output_type": "execute_result",
          "data": {
            "text/plain": [
              "29.0"
            ]
          },
          "metadata": {},
          "execution_count": 23
        }
      ]
    },
    {
      "cell_type": "code",
      "source": [
        "df['Gender'].value_counts()"
      ],
      "metadata": {
        "colab": {
          "base_uri": "https://localhost:8080/"
        },
        "id": "ywWIqdvJY6XE",
        "outputId": "bcc1f779-40a1-41dc-8682-55f9ded143f0"
      },
      "execution_count": 25,
      "outputs": [
        {
          "output_type": "execute_result",
          "data": {
            "text/plain": [
              "Man                                                            10480\n",
              "Woman                                                            731\n",
              "Non-binary, genderqueer, or gender non-conforming                 63\n",
              "Man;Non-binary, genderqueer, or gender non-conforming             26\n",
              "Woman;Non-binary, genderqueer, or gender non-conforming           14\n",
              "Woman;Man                                                          9\n",
              "Woman;Man;Non-binary, genderqueer, or gender non-conforming        2\n",
              "Name: Gender, dtype: int64"
            ]
          },
          "metadata": {},
          "execution_count": 25
        }
      ]
    },
    {
      "cell_type": "code",
      "source": [
        "#Plot the distribution curve for the column ConvertedComp.\n",
        "sns.distplot(df['ConvertedComp'],kde=True)"
      ],
      "metadata": {
        "colab": {
          "base_uri": "https://localhost:8080/",
          "height": 673
        },
        "id": "ehbA1Clzcp6U",
        "outputId": "33244dd9-e1e5-4bd5-a148-9ccc225231f1"
      },
      "execution_count": 56,
      "outputs": [
        {
          "output_type": "stream",
          "name": "stderr",
          "text": [
            "<ipython-input-56-ba5ae65cdc09>:2: UserWarning: \n",
            "\n",
            "`distplot` is a deprecated function and will be removed in seaborn v0.14.0.\n",
            "\n",
            "Please adapt your code to use either `displot` (a figure-level function with\n",
            "similar flexibility) or `histplot` (an axes-level function for histograms).\n",
            "\n",
            "For a guide to updating your code to use the new functions, please see\n",
            "https://gist.github.com/mwaskom/de44147ed2974457ad6372750bbe5751\n",
            "\n",
            "  sns.distplot(df['ConvertedComp'],kde=True)\n"
          ]
        },
        {
          "output_type": "execute_result",
          "data": {
            "text/plain": [
              "<Axes: xlabel='ConvertedComp', ylabel='Density'>"
            ]
          },
          "metadata": {},
          "execution_count": 56
        },
        {
          "output_type": "display_data",
          "data": {
            "text/plain": [
              "<Figure size 640x480 with 1 Axes>"
            ],
            "image/png": "[encoded data removed]"
          },
          "metadata": {}
        }
      ]
    },
    {
      "cell_type": "code",
      "source": [
        "sns.distplot(df['ConvertedComp'],kde=True, hist=False)"
      ],
      "metadata": {
        "colab": {
          "base_uri": "https://localhost:8080/",
          "height": 673
        },
        "id": "jlxNyHDSs2uK",
        "outputId": "17447c26-8f99-43c5-8a0d-6cc4124bf7f4"
      },
      "execution_count": 57,
      "outputs": [
        {
          "output_type": "stream",
          "name": "stderr",
          "text": [
            "<ipython-input-57-c0eccabb0a80>:1: UserWarning: \n",
            "\n",
            "`distplot` is a deprecated function and will be removed in seaborn v0.14.0.\n",
            "\n",
            "Please adapt your code to use either `displot` (a figure-level function with\n",
            "similar flexibility) or `kdeplot` (an axes-level function for kernel density plots).\n",
            "\n",
            "For a guide to updating your code to use the new functions, please see\n",
            "https://gist.github.com/mwaskom/de44147ed2974457ad6372750bbe5751\n",
            "\n",
            "  sns.distplot(df['ConvertedComp'],kde=True, hist=False)\n"
          ]
        },
        {
          "output_type": "execute_result",
          "data": {
            "text/plain": [
              "<Axes: xlabel='ConvertedComp', ylabel='Density'>"
            ]
          },
          "metadata": {},
          "execution_count": 57
        },
        {
          "output_type": "display_data",
          "data": {
            "text/plain": [
              "<Figure size 640x480 with 1 Axes>"
            ],
            "image/png": "[encoded data removed]"
          },
          "metadata": {}
        }
      ]
    },
    {
      "cell_type": "code",
      "source": [
        "#Plot the histogram for the column Convertedcomp.\n",
        "sns.histplot(df['ConvertedComp'],bins=10)"
      ],
      "metadata": {
        "colab": {
          "base_uri": "https://localhost:8080/",
          "height": 467
        },
        "id": "szyWvnaTtgAV",
        "outputId": "e12311d2-5a65-40ee-ace7-8a42258c7f70"
      },
      "execution_count": 64,
      "outputs": [
        {
          "output_type": "execute_result",
          "data": {
            "text/plain": [
              "<Axes: xlabel='ConvertedComp', ylabel='Count'>"
            ]
          },
          "metadata": {},
          "execution_count": 64
        },
        {
          "output_type": "display_data",
          "data": {
            "text/plain": [
              "<Figure size 640x480 with 1 Axes>"
            ],
            "image/png": "[encoded data removed]"
          },
          "metadata": {}
        }
      ]
    },
    {
      "cell_type": "code",
      "source": [
        "#What is the median of the column ConvertedComp?\n",
        "df['ConvertedComp'].median()"
      ],
      "metadata": {
        "colab": {
          "base_uri": "https://localhost:8080/"
        },
        "id": "eapLwQnUvakE",
        "outputId": "024465a9-47a5-419c-ff87-cd794913d24d"
      },
      "execution_count": 65,
      "outputs": [
        {
          "output_type": "execute_result",
          "data": {
            "text/plain": [
              "57745.0"
            ]
          },
          "metadata": {},
          "execution_count": 65
        }
      ]
    },
    {
      "cell_type": "code",
      "source": [
        "#How many responders identified themselves only as a Man?\n",
        "temp_df = df.loc[df['Gender'] == 'Man']"
      ],
      "metadata": {
        "id": "PbfEmgo1wEtL"
      },
      "execution_count": 77,
      "outputs": []
    },
    {
      "cell_type": "code",
      "source": [
        "temp_df['Gender'].value_counts()"
      ],
      "metadata": {
        "colab": {
          "base_uri": "https://localhost:8080/"
        },
        "id": "7ewSTLB0wnMf",
        "outputId": "d5be6321-aea7-456a-b2dd-9cd12cbb93c5"
      },
      "execution_count": 78,
      "outputs": [
        {
          "output_type": "execute_result",
          "data": {
            "text/plain": [
              "Man    10480\n",
              "Name: Gender, dtype: int64"
            ]
          },
          "metadata": {},
          "execution_count": 78
        }
      ]
    },
    {
      "cell_type": "code",
      "source": [
        "df.loc[df['Gender'] == 'Woman'].median()"
      ],
      "metadata": {
        "colab": {
          "base_uri": "https://localhost:8080/"
        },
        "id": "otfEC4rzYwgn",
        "outputId": "9044ac5a-28b1-4bbc-f791-a39ea4143677"
      },
      "execution_count": 34,
      "outputs": [
        {
          "output_type": "stream",
          "name": "stderr",
          "text": [
            "<ipython-input-34-fbd643d6af67>:1: FutureWarning: The default value of numeric_only in DataFrame.median is deprecated. In a future version, it will default to False. In addition, specifying 'numeric_only=None' is deprecated. Select only valid columns or specify the value of numeric_only to silence this warning.\n",
            "  df.loc[df['Gender'] == 'Woman'].median()\n"
          ]
        },
        {
          "output_type": "execute_result",
          "data": {
            "text/plain": [
              "Respondent       11973.0\n",
              "CompTotal        65000.0\n",
              "ConvertedComp    57708.0\n",
              "WorkWeekHrs         40.0\n",
              "CodeRevHrs           4.0\n",
              "Age                 28.0\n",
              "dtype: float64"
            ]
          },
          "metadata": {},
          "execution_count": 34
        }
      ]
    },
    {
      "cell_type": "code",
      "source": [
        "#Give the five number summary for the column Age?\n",
        "df['Age'].describe()"
      ],
      "metadata": {
        "colab": {
          "base_uri": "https://localhost:8080/"
        },
        "id": "MnXw3_YgyXo0",
        "outputId": "cf6f6758-bcae-4bea-bc80-4c1381a14af9"
      },
      "execution_count": 79,
      "outputs": [
        {
          "output_type": "execute_result",
          "data": {
            "text/plain": [
              "count    11111.000000\n",
              "mean        30.778895\n",
              "std          7.393686\n",
              "min         16.000000\n",
              "25%         25.000000\n",
              "50%         29.000000\n",
              "75%         35.000000\n",
              "max         99.000000\n",
              "Name: Age, dtype: float64"
            ]
          },
          "metadata": {},
          "execution_count": 79
        }
      ]
    },
    {
      "cell_type": "code",
      "source": [
        "#Plot the histogram for the column Age.\n",
        "sns.histplot(df['Age'],bins=8)"
      ],
      "metadata": {
        "colab": {
          "base_uri": "https://localhost:8080/",
          "height": 466
        },
        "id": "0PPj5JS7qabB",
        "outputId": "97208c86-88ef-47e7-d1c0-cc8cff39a544"
      },
      "execution_count": 62,
      "outputs": [
        {
          "output_type": "execute_result",
          "data": {
            "text/plain": [
              "<Axes: xlabel='Age', ylabel='Count'>"
            ]
          },
          "metadata": {},
          "execution_count": 62
        },
        {
          "output_type": "display_data",
          "data": {
            "text/plain": [
              "<Figure size 640x480 with 1 Axes>"
            ],
            "image/png": "[encoded data removed]"
          },
          "metadata": {}
        }
      ]
    },
    {
      "cell_type": "markdown",
      "source": [
        "#OutLiers"
      ],
      "metadata": {
        "id": "Rykb2naEzp1h"
      }
    },
    {
      "cell_type": "code",
      "source": [
        "#Find out if outliers exist in the column ConvertedComp using a box plot?\n",
        "sns.boxplot(df['ConvertedComp'])\n",
        "sns.set(rc={\"figure.figsize\":(5, 8)})"
      ],
      "metadata": {
        "colab": {
          "base_uri": "https://localhost:8080/",
          "height": 697
        },
        "id": "4XP2QdXxzsrL",
        "outputId": "d1c07d3f-7da1-4863-8b5f-4d536a0bf4db"
      },
      "execution_count": 95,
      "outputs": [
        {
          "output_type": "display_data",
          "data": {
            "text/plain": [
              "<Figure size 500x800 with 1 Axes>"
            ],
            "image/png": "[encoded data removed]"
          },
          "metadata": {}
        }
      ]
    },
    {
      "cell_type": "code",
      "source": [
        "df['ConvertedComp'].describe()"
      ],
      "metadata": {
        "colab": {
          "base_uri": "https://localhost:8080/"
        },
        "id": "rptzE1IM03J9",
        "outputId": "56688f9f-7325-44ae-9f73-1d0f5abec5a6"
      },
      "execution_count": 87,
      "outputs": [
        {
          "output_type": "execute_result",
          "data": {
            "text/plain": [
              "count    1.058200e+04\n",
              "mean     1.315967e+05\n",
              "std      2.947865e+05\n",
              "min      0.000000e+00\n",
              "25%      2.686800e+04\n",
              "50%      5.774500e+04\n",
              "75%      1.000000e+05\n",
              "max      2.000000e+06\n",
              "Name: ConvertedComp, dtype: float64"
            ]
          },
          "metadata": {},
          "execution_count": 87
        }
      ]
    },
    {
      "cell_type": "code",
      "source": [
        "q1 = df['ConvertedComp'].quantile(0.25)\n",
        "q3 = df['ConvertedComp'].quantile(0.75)\n",
        "iqr = q3 - q1\n",
        "mini = q1 - 1.5*iqr\n",
        "maxi = q3 + 1.5*iqr\n",
        "print (q1)\n",
        "print(q3)\n",
        "print(iqr)\n",
        "print(mini)\n",
        "print(maxi)"
      ],
      "metadata": {
        "colab": {
          "base_uri": "https://localhost:8080/"
        },
        "id": "mKue-IrA3YfN",
        "outputId": "da0c0891-aaa1-433f-d6d4-a218053a2d02"
      },
      "execution_count": 100,
      "outputs": [
        {
          "output_type": "stream",
          "name": "stdout",
          "text": [
            "26868.0\n",
            "100000.0\n",
            "73132.0\n",
            "-82830.0\n",
            "209698.0\n"
          ]
        }
      ]
    },
    {
      "cell_type": "code",
      "source": [
        "#Find out the Inter Quartile Range for the column ConvertedComp.\n",
        "print(\"The Inter Quartlie Range is : \", iqr)"
      ],
      "metadata": {
        "colab": {
          "base_uri": "https://localhost:8080/"
        },
        "id": "nG3NcRPS72lL",
        "outputId": "0ab02ff1-f91a-4890-fcfc-6f5bbd9516d3"
      },
      "execution_count": 102,
      "outputs": [
        {
          "output_type": "stream",
          "name": "stdout",
          "text": [
            "The Inter Quartlie Range is :  73132.0\n"
          ]
        }
      ]
    },
    {
      "cell_type": "code",
      "source": [
        "#Find out the upper and lower bounds.\n",
        "print(\"The Upper Bound : \",maxi)\n",
        "print(\"The lower bound : \",mini)"
      ],
      "metadata": {
        "colab": {
          "base_uri": "https://localhost:8080/"
        },
        "id": "UoaJhWn2DBG_",
        "outputId": "c3cfd188-0f58-4ba5-f6ce-f92edb1a3216"
      },
      "execution_count": 103,
      "outputs": [
        {
          "output_type": "stream",
          "name": "stdout",
          "text": [
            "The Upper Bound :  209698.0\n",
            "The lower bound :  -82830.0\n"
          ]
        }
      ]
    },
    {
      "cell_type": "code",
      "source": [
        "#Identify how many outliers are there in the ConvertedComp column.\n",
        "upper_outlier = df.loc[df['ConvertedComp'] > maxi]\n",
        "upper_outlier['ConvertedComp'].count()"
      ],
      "metadata": {
        "colab": {
          "base_uri": "https://localhost:8080/"
        },
        "id": "z8RGqEw7Exxi",
        "outputId": "0ce1b23b-e3fc-4601-a90f-ef6af3cb96e8"
      },
      "execution_count": 112,
      "outputs": [
        {
          "output_type": "execute_result",
          "data": {
            "text/plain": [
              "879"
            ]
          },
          "metadata": {},
          "execution_count": 112
        }
      ]
    },
    {
      "cell_type": "code",
      "source": [
        "below_outlier = df.loc[df['ConvertedComp'] < mini]\n",
        "below_outlier['ConvertedComp'].count()"
      ],
      "metadata": {
        "colab": {
          "base_uri": "https://localhost:8080/"
        },
        "id": "VCEKX_ZBFxIt",
        "outputId": "78441732-5d1a-4cb6-dc58-9208122e97f2"
      },
      "execution_count": 113,
      "outputs": [
        {
          "output_type": "execute_result",
          "data": {
            "text/plain": [
              "0"
            ]
          },
          "metadata": {},
          "execution_count": 113
        }
      ]
    },
    {
      "cell_type": "code",
      "source": [
        "#Create a new dataframe by removing the outliers from the ConvertedComp column.\n",
        "new_df = df[df.ConvertedComp <= maxi]\n",
        "new_df['ConvertedComp'].describe()"
      ],
      "metadata": {
        "colab": {
          "base_uri": "https://localhost:8080/"
        },
        "id": "p_mNs2E9HDoJ",
        "outputId": "793fceef-1f08-4b45-a83b-be193baedc58"
      },
      "execution_count": 127,
      "outputs": [
        {
          "output_type": "execute_result",
          "data": {
            "text/plain": [
              "count      9703.000000\n",
              "mean      59883.208389\n",
              "std       43394.336755\n",
              "min           0.000000\n",
              "25%       24060.000000\n",
              "50%       52704.000000\n",
              "75%       85574.500000\n",
              "max      209356.000000\n",
              "Name: ConvertedComp, dtype: float64"
            ]
          },
          "metadata": {},
          "execution_count": 127
        }
      ]
    },
    {
      "cell_type": "code",
      "source": [
        "new_df['ConvertedComp'].median()"
      ],
      "metadata": {
        "colab": {
          "base_uri": "https://localhost:8080/"
        },
        "id": "21UhRfH8JQcq",
        "outputId": "d0b15f68-e433-4a75-a59b-859575eecc52"
      },
      "execution_count": 125,
      "outputs": [
        {
          "output_type": "execute_result",
          "data": {
            "text/plain": [
              "52704.0"
            ]
          },
          "metadata": {},
          "execution_count": 125
        }
      ]
    },
    {
      "cell_type": "code",
      "source": [
        "new_df['ConvertedComp'].mean()"
      ],
      "metadata": {
        "colab": {
          "base_uri": "https://localhost:8080/"
        },
        "id": "PToGpe-_SvYK",
        "outputId": "700d4869-f4dd-4cb7-c3c9-306d9e57c96d"
      },
      "execution_count": 136,
      "outputs": [
        {
          "output_type": "execute_result",
          "data": {
            "text/plain": [
              "59883.20838915799"
            ]
          },
          "metadata": {},
          "execution_count": 136
        }
      ]
    },
    {
      "cell_type": "code",
      "source": [
        "sns.boxplot(df['Age'])"
      ],
      "metadata": {
        "colab": {
          "base_uri": "https://localhost:8080/",
          "height": 698
        },
        "id": "A3A1vshdMe0X",
        "outputId": "0a247447-1705-430b-f0d4-3683f6d2d25e"
      },
      "execution_count": 128,
      "outputs": [
        {
          "output_type": "execute_result",
          "data": {
            "text/plain": [
              "<Axes: >"
            ]
          },
          "metadata": {},
          "execution_count": 128
        },
        {
          "output_type": "display_data",
          "data": {
            "text/plain": [
              "<Figure size 500x800 with 1 Axes>"
            ],
            "image/png": "[encoded data removed]"
          },
          "metadata": {}
        }
      ]
    },
    {
      "cell_type": "code",
      "source": [
        "Q1 = df['Age'].quantile(0.25)\n",
        "Q3 = df['Age'].quantile(0.75)\n",
        "IQR = Q3 - Q1\n",
        "minim = Q1 - 1.5*IQR\n",
        "maxim = Q3 + 1.5*IQR"
      ],
      "metadata": {
        "id": "TywfwSGNPhlh"
      },
      "execution_count": 134,
      "outputs": []
    },
    {
      "cell_type": "code",
      "source": [
        "x = df.loc[df['Age'] < minim]\n",
        "x['Age'].count()"
      ],
      "metadata": {
        "colab": {
          "base_uri": "https://localhost:8080/"
        },
        "id": "UfRjmTtFP-Zz",
        "outputId": "0226f8a9-b77f-4904-ff83-324e914c958b"
      },
      "execution_count": 135,
      "outputs": [
        {
          "output_type": "execute_result",
          "data": {
            "text/plain": [
              "0"
            ]
          },
          "metadata": {},
          "execution_count": 135
        }
      ]
    },
    {
      "cell_type": "markdown",
      "source": [
        "#Correlation"
      ],
      "metadata": {
        "id": "dvw0k_tgT82g"
      }
    },
    {
      "cell_type": "code",
      "source": [
        "#Find the correlation between Age and all other numerical columns.\n",
        "df[['Age','Respondent','CompTotal','ConvertedComp','WorkWeekHrs','CodeRevHrs']].corr()"
      ],
      "metadata": {
        "colab": {
          "base_uri": "https://localhost:8080/",
          "height": 238
        },
        "id": "M5PC8cWIUBud",
        "outputId": "07dd6c87-7d76-4d06-ce3a-311efbaddcd5"
      },
      "execution_count": 139,
      "outputs": [
        {
          "output_type": "execute_result",
          "data": {
            "text/plain": [
              "                    Age  Respondent  CompTotal  ConvertedComp  WorkWeekHrs  \\\n",
              "Age            1.000000    0.004041   0.006970       0.105386     0.036518   \n",
              "Respondent     0.004041    1.000000  -0.013490       0.002181    -0.015314   \n",
              "CompTotal      0.006970   -0.013490   1.000000       0.001037     0.003510   \n",
              "ConvertedComp  0.105386    0.002181   0.001037       1.000000     0.021143   \n",
              "WorkWeekHrs    0.036518   -0.015314   0.003510       0.021143     1.000000   \n",
              "CodeRevHrs    -0.020469    0.004621   0.007063      -0.033865     0.026517   \n",
              "\n",
              "               CodeRevHrs  \n",
              "Age             -0.020469  \n",
              "Respondent       0.004621  \n",
              "CompTotal        0.007063  \n",
              "ConvertedComp   -0.033865  \n",
              "WorkWeekHrs      0.026517  \n",
              "CodeRevHrs       1.000000  "
            ],
            "text/html": [
              "\n",
              "\n",
              "  <div id=\"df-3080c0d2-d7ce-4e2c-91e0-a6d9916ffe99\">\n",
              "    <div class=\"colab-df-container\">\n",
              "      <div>\n",
              "<style scoped>\n",
              "    .dataframe tbody tr th:only-of-type {\n",
              "        vertical-align: middle;\n",
              "    }\n",
              "\n",
              "    .dataframe tbody tr th {\n",
              "        vertical-align: top;\n",
              "    }\n",
              "\n",
              "    .dataframe thead th {\n",
              "        text-align: right;\n",
              "    }\n",
              "</style>\n",
              "<table border=\"1\" class=\"dataframe\">\n",
              "  <thead>\n",
              "    <tr style=\"text-align: right;\">\n",
              "      <th></th>\n",
              "      <th>Age</th>\n",
              "      <th>Respondent</th>\n",
              "      <th>CompTotal</th>\n",
              "      <th>ConvertedComp</th>\n",
              "      <th>WorkWeekHrs</th>\n",
              "      <th>CodeRevHrs</th>\n",
              "    </tr>\n",
              "  </thead>\n",
              "  <tbody>\n",
              "    <tr>\n",
              "      <th>Age</th>\n",
              "      <td>1.000000</td>\n",
              "      <td>0.004041</td>\n",
              "      <td>0.006970</td>\n",
              "      <td>0.105386</td>\n",
              "      <td>0.036518</td>\n",
              "      <td>-0.020469</td>\n",
              "    </tr>\n",
              "    <tr>\n",
              "      <th>Respondent</th>\n",
              "      <td>0.004041</td>\n",
              "      <td>1.000000</td>\n",
              "      <td>-0.013490</td>\n",
              "      <td>0.002181</td>\n",
              "      <td>-0.015314</td>\n",
              "      <td>0.004621</td>\n",
              "    </tr>\n",
              "    <tr>\n",
              "      <th>CompTotal</th>\n",
              "      <td>0.006970</td>\n",
              "      <td>-0.013490</td>\n",
              "      <td>1.000000</td>\n",
              "      <td>0.001037</td>\n",
              "      <td>0.003510</td>\n",
              "      <td>0.007063</td>\n",
              "    </tr>\n",
              "    <tr>\n",
              "      <th>ConvertedComp</th>\n",
              "      <td>0.105386</td>\n",
              "      <td>0.002181</td>\n",
              "      <td>0.001037</td>\n",
              "      <td>1.000000</td>\n",
              "      <td>0.021143</td>\n",
              "      <td>-0.033865</td>\n",
              "    </tr>\n",
              "    <tr>\n",
              "      <th>WorkWeekHrs</th>\n",
              "      <td>0.036518</td>\n",
              "      <td>-0.015314</td>\n",
              "      <td>0.003510</td>\n",
              "      <td>0.021143</td>\n",
              "      <td>1.000000</td>\n",
              "      <td>0.026517</td>\n",
              "    </tr>\n",
              "    <tr>\n",
              "      <th>CodeRevHrs</th>\n",
              "      <td>-0.020469</td>\n",
              "      <td>0.004621</td>\n",
              "      <td>0.007063</td>\n",
              "      <td>-0.033865</td>\n",
              "      <td>0.026517</td>\n",
              "      <td>1.000000</td>\n",
              "    </tr>\n",
              "  </tbody>\n",
              "</table>\n",
              "</div>\n",
              "      <button class=\"colab-df-convert\" onclick=\"convertToInteractive('df-3080c0d2-d7ce-4e2c-91e0-a6d9916ffe99')\"\n",
              "              title=\"Convert this dataframe to an interactive table.\"\n",
              "              style=\"display:none;\">\n",
              "\n",
              "  <svg xmlns=\"http://www.w3.org/2000/svg\" height=\"24px\"viewBox=\"0 0 24 24\"\n",
              "       width=\"24px\">\n",
              "    <path d=\"M0 0h24v24H0V0z\" fill=\"none\"/>\n",
              "    <path d=\"M18.56 5.44l.94 2.06.94-2.06 2.06-.94-2.06-.94-.94-2.06-.94 2.06-2.06.94zm-11 1L8.5 8.5l.94-2.06 2.06-.94-2.06-.94L8.5 2.5l-.94 2.06-2.06.94zm10 10l.94 2.06.94-2.06 2.06-.94-2.06-.94-.94-2.06-.94 2.06-2.06.94z\"/><path d=\"M17.41 7.96l-1.37-1.37c-.4-.4-.92-.59-1.43-.59-.52 0-1.04.2-1.43.59L10.3 9.45l-7.72 7.72c-.78.78-.78 2.05 0 2.83L4 21.41c.39.39.9.59 1.41.59.51 0 1.02-.2 1.41-.59l7.78-7.78 2.81-2.81c.8-.78.8-2.07 0-2.86zM5.41 20L4 18.59l7.72-7.72 1.47 1.35L5.41 20z\"/>\n",
              "  </svg>\n",
              "      </button>\n",
              "\n",
              "\n",
              "\n",
              "    <div id=\"df-0ee72cef-cc72-4c47-9b0a-c7c9179a5bce\">\n",
              "      <button class=\"colab-df-quickchart\" onclick=\"quickchart('df-0ee72cef-cc72-4c47-9b0a-c7c9179a5bce')\"\n",
              "              title=\"Suggest charts.\"\n",
              "              style=\"display:none;\">\n",
              "\n",
              "<svg xmlns=\"http://www.w3.org/2000/svg\" height=\"24px\"viewBox=\"0 0 24 24\"\n",
              "     width=\"24px\">\n",
              "    <g>\n",
              "        <path d=\"M19 3H5c-1.1 0-2 .9-2 2v14c0 1.1.9 2 2 2h14c1.1 0 2-.9 2-2V5c0-1.1-.9-2-2-2zM9 17H7v-7h2v7zm4 0h-2V7h2v10zm4 0h-2v-4h2v4z\"/>\n",
              "    </g>\n",
              "</svg>\n",
              "      </button>\n",
              "    </div>\n",
              "\n",
              "<style>\n",
              "  .colab-df-quickchart {\n",
              "    background-color: #E8F0FE;\n",
              "    border: none;\n",
              "    border-radius: 50%;\n",
              "    cursor: pointer;\n",
              "    display: none;\n",
              "    fill: #1967D2;\n",
              "    height: 32px;\n",
              "    padding: 0 0 0 0;\n",
              "    width: 32px;\n",
              "  }\n",
              "\n",
              "  .colab-df-quickchart:hover {\n",
              "    background-color: #E2EBFA;\n",
              "    box-shadow: 0px 1px 2px rgba(60, 64, 67, 0.3), 0px 1px 3px 1px rgba(60, 64, 67, 0.15);\n",
              "    fill: #174EA6;\n",
              "  }\n",
              "\n",
              "  [theme=dark] .colab-df-quickchart {\n",
              "    background-color: #3B4455;\n",
              "    fill: #D2E3FC;\n",
              "  }\n",
              "\n",
              "  [theme=dark] .colab-df-quickchart:hover {\n",
              "    background-color: #434B5C;\n",
              "    box-shadow: 0px 1px 3px 1px rgba(0, 0, 0, 0.15);\n",
              "    filter: drop-shadow(0px 1px 2px rgba(0, 0, 0, 0.3));\n",
              "    fill: #FFFFFF;\n",
              "  }\n",
              "</style>\n",
              "\n",
              "    <script>\n",
              "      async function quickchart(key) {\n",
              "        const containerElement = document.querySelector('#' + key);\n",
              "        const charts = await google.colab.kernel.invokeFunction(\n",
              "            'suggestCharts', [key], {});\n",
              "      }\n",
              "    </script>\n",
              "\n",
              "      <script>\n",
              "\n",
              "function displayQuickchartButton(domScope) {\n",
              "  let quickchartButtonEl =\n",
              "    domScope.querySelector('#df-0ee72cef-cc72-4c47-9b0a-c7c9179a5bce button.colab-df-quickchart');\n",
              "  quickchartButtonEl.style.display =\n",
              "    google.colab.kernel.accessAllowed ? 'block' : 'none';\n",
              "}\n",
              "\n",
              "        displayQuickchartButton(document);\n",
              "      </script>\n",
              "      <style>\n",
              "    .colab-df-container {\n",
              "      display:flex;\n",
              "      flex-wrap:wrap;\n",
              "      gap: 12px;\n",
              "    }\n",
              "\n",
              "    .colab-df-convert {\n",
              "      background-color: #E8F0FE;\n",
              "      border: none;\n",
              "      border-radius: 50%;\n",
              "      cursor: pointer;\n",
              "      display: none;\n",
              "      fill: #1967D2;\n",
              "      height: 32px;\n",
              "      padding: 0 0 0 0;\n",
              "      width: 32px;\n",
              "    }\n",
              "\n",
              "    .colab-df-convert:hover {\n",
              "      background-color: #E2EBFA;\n",
              "      box-shadow: 0px 1px 2px rgba(60, 64, 67, 0.3), 0px 1px 3px 1px rgba(60, 64, 67, 0.15);\n",
              "      fill: #174EA6;\n",
              "    }\n",
              "\n",
              "    [theme=dark] .colab-df-convert {\n",
              "      background-color: #3B4455;\n",
              "      fill: #D2E3FC;\n",
              "    }\n",
              "\n",
              "    [theme=dark] .colab-df-convert:hover {\n",
              "      background-color: #434B5C;\n",
              "      box-shadow: 0px 1px 3px 1px rgba(0, 0, 0, 0.15);\n",
              "      filter: drop-shadow(0px 1px 2px rgba(0, 0, 0, 0.3));\n",
              "      fill: #FFFFFF;\n",
              "    }\n",
              "  </style>\n",
              "\n",
              "      <script>\n",
              "        const buttonEl =\n",
              "          document.querySelector('#df-3080c0d2-d7ce-4e2c-91e0-a6d9916ffe99 button.colab-df-convert');\n",
              "        buttonEl.style.display =\n",
              "          google.colab.kernel.accessAllowed ? 'block' : 'none';\n",
              "\n",
              "        async function convertToInteractive(key) {\n",
              "          const element = document.querySelector('#df-3080c0d2-d7ce-4e2c-91e0-a6d9916ffe99');\n",
              "          const dataTable =\n",
              "            await google.colab.kernel.invokeFunction('convertToInteractive',\n",
              "                                                     [key], {});\n",
              "          if (!dataTable) return;\n",
              "\n",
              "          const docLinkHtml = 'Like what you see? Visit the ' +\n",
              "            '<a target=\"_blank\" href=https://colab.research.google.com/notebooks/data_table.ipynb>data table notebook</a>'\n",
              "            + ' to learn more about interactive tables.';\n",
              "          element.innerHTML = '';\n",
              "          dataTable['output_type'] = 'display_data';\n",
              "          await google.colab.output.renderOutput(dataTable, element);\n",
              "          const docLink = document.createElement('div');\n",
              "          docLink.innerHTML = docLinkHtml;\n",
              "          element.appendChild(docLink);\n",
              "        }\n",
              "      </script>\n",
              "    </div>\n",
              "  </div>\n"
            ]
          },
          "metadata": {},
          "execution_count": 139
        }
      ]
    },
    {
      "cell_type": "code",
      "source": [],
      "metadata": {
        "id": "8ab6eFRiVl-L"
      },
      "execution_count": null,
      "outputs": []
    }
  ]
}